{
 "cells": [
  {
   "cell_type": "code",
   "execution_count": 293,
   "metadata": {},
   "outputs": [
    {
     "name": "stdout",
     "output_type": "stream",
     "text": [
      "1.14.0\n",
      "2.2.4-tf\n"
     ]
    }
   ],
   "source": [
    "from __future__ import absolute_import, division, print_function, unicode_literals\n",
    "\n",
    "import tensorflow as tf,numpy as np\n",
    "from tensorflow.keras import layers\n",
    "from tensorflow.keras.preprocessing.image import load_img\n",
    "from tensorflow.keras.preprocessing.image import img_to_array\n",
    "from tensorflow.keras.preprocessing.image import array_to_img\n",
    "from tensorflow.keras.models import Sequential\n",
    "from tensorflow.keras.layers import Dense, Dropout, Activation, Flatten\n",
    "from tensorflow.keras.layers import Conv2D, MaxPooling2D\n",
    "import os\n",
    "\n",
    "print(tf.version.VERSION)\n",
    "print(tf.keras.__version__)"
   ]
  },
  {
   "cell_type": "code",
   "execution_count": 294,
   "metadata": {},
   "outputs": [
    {
     "name": "stderr",
     "output_type": "stream",
     "text": [
      "c:\\users\\roarke\\appdata\\local\\programs\\python\\python37\\lib\\site-packages\\keras_preprocessing\\image\\utils.py:104: UserWarning: grayscale is deprecated. Please use color_mode = \"grayscale\"\n",
      "  warnings.warn('grayscale is deprecated. Please use '\n"
     ]
    }
   ],
   "source": [
    "img1 = load_img(r'C:\\Users\\Roarke\\Desktop\\University\\2019 Semester 2 CURRENT\\CITS4404\\Project\\cell-detection\\train\\3-7.png',grayscale=True)\n",
    "img2 = load_img(r'C:\\Users\\Roarke\\Desktop\\University\\2019 Semester 2 CURRENT\\CITS4404\\Project\\cell-detection\\train\\6-2.png',grayscale=True)\n",
    "img3 = load_img(r'C:\\Users\\Roarke\\Desktop\\University\\2019 Semester 2 CURRENT\\CITS4404\\Project\\cell-detection\\train\\11-6.png',grayscale=True)\n",
    "img4 = load_img(r'C:\\Users\\Roarke\\Desktop\\University\\2019 Semester 2 CURRENT\\CITS4404\\Project\\cell-detection\\train\\11-7.png',grayscale=True)\n",
    "img5 = load_img(r'C:\\Users\\Roarke\\Desktop\\University\\2019 Semester 2 CURRENT\\CITS4404\\Project\\cell-detection\\train\\13-2.png',grayscale=True)\n",
    "img6 = load_img(r'C:\\Users\\Roarke\\Desktop\\University\\2019 Semester 2 CURRENT\\CITS4404\\Project\\cell-detection\\train\\13-6.png',grayscale=True)\n",
    "img7 = load_img(r'C:\\Users\\Roarke\\Desktop\\University\\2019 Semester 2 CURRENT\\CITS4404\\Project\\cell-detection\\train\\15-6.png',grayscale=True)\n",
    "\n",
    "\n",
    "img_array = img_to_array(img)\n",
    "img_array2 = img_to_array(img2)\n",
    "img_array3 = img_to_array(img3)\n",
    "img_array4 = img_to_array(img4)\n",
    "img_array5 = img_to_array(img5)\n",
    "img_array6 = img_to_array(img6)\n",
    "img_array7 = img_to_array(img7)"
   ]
  },
  {
   "cell_type": "code",
   "execution_count": 295,
   "metadata": {},
   "outputs": [],
   "source": [
    "trainX = np.zeros(shape=(7,32,32,1))"
   ]
  },
  {
   "cell_type": "code",
   "execution_count": 296,
   "metadata": {},
   "outputs": [],
   "source": [
    "trainX[0] = img_array\n",
    "trainX[1] = img_array2\n",
    "trainX[2] = img_array3\n",
    "trainX[3] = img_array4\n",
    "trainX[4] = img_array5\n",
    "trainX[5] = img_array6\n",
    "trainX[6] = img_array7\n"
   ]
  },
  {
   "cell_type": "code",
   "execution_count": 297,
   "metadata": {},
   "outputs": [],
   "source": [
    "trainY = np.array([1,1,1,0,1,0,0])"
   ]
  },
  {
   "cell_type": "code",
   "execution_count": 298,
   "metadata": {},
   "outputs": [],
   "source": [
    "img5 = load_img(r'C:\\Users\\Roarke\\Desktop\\University\\2019 Semester 2 CURRENT\\CITS4404\\Project\\cell-detection\\test\\10.png',grayscale=True)\n",
    "img6 = load_img(r'C:\\Users\\Roarke\\Desktop\\University\\2019 Semester 2 CURRENT\\CITS4404\\Project\\cell-detection\\test\\26.png',grayscale=True)\n",
    "\n",
    "img_array5 = img_to_array(img5)\n",
    "img_array6 = img_to_array(img6)\n",
    "\n",
    "testX = np.zeros(shape=(2,32,32,1))\n",
    "\n",
    "testX[0] = img_array5\n",
    "testX[1] = img_array6\n",
    "testY = np.array([0,1])"
   ]
  },
  {
   "cell_type": "code",
   "execution_count": 299,
   "metadata": {},
   "outputs": [],
   "source": [
    "model = Sequential()\n",
    "model.add(Conv2D(32, (3, 3), padding='same',data_format=\"channels_last\",input_shape=(32,32,1))) #INPUT SHAPE NEEDS TO BE SHAPE OF TRAIN\n",
    "model.add(Activation('relu'))\n",
    "\n",
    "model.add(Conv2D(64, (3, 3)))\n",
    "model.add(Activation('relu'))\n",
    "\n",
    "model.add(MaxPooling2D(pool_size=(2, 2)))\n",
    "model.add(Dropout(0.2))\n",
    "\n",
    "model.add(Flatten())\n",
    "model.add(Dense(400))\n",
    "model.add(Activation('relu'))\n",
    "#model.add(Dropout(0.5))\n",
    "model.add(Dense(1)) #num_classes\n",
    "model.add(Activation('softmax'))\n",
    "\n",
    "model.compile(optimizer=tf.train.AdamOptimizer(0.01),\n",
    "              loss='binary_crossentropy',\n",
    "              metrics=['accuracy'])"
   ]
  },
  {
   "cell_type": "code",
   "execution_count": 300,
   "metadata": {},
   "outputs": [
    {
     "name": "stdout",
     "output_type": "stream",
     "text": [
      "Model: \"sequential_30\"\n",
      "_________________________________________________________________\n",
      "Layer (type)                 Output Shape              Param #   \n",
      "=================================================================\n",
      "conv2d_45 (Conv2D)           (None, 32, 32, 32)        320       \n",
      "_________________________________________________________________\n",
      "activation_90 (Activation)   (None, 32, 32, 32)        0         \n",
      "_________________________________________________________________\n",
      "conv2d_46 (Conv2D)           (None, 30, 30, 64)        18496     \n",
      "_________________________________________________________________\n",
      "activation_91 (Activation)   (None, 30, 30, 64)        0         \n",
      "_________________________________________________________________\n",
      "max_pooling2d_25 (MaxPooling (None, 15, 15, 64)        0         \n",
      "_________________________________________________________________\n",
      "dropout_27 (Dropout)         (None, 15, 15, 64)        0         \n",
      "_________________________________________________________________\n",
      "flatten_25 (Flatten)         (None, 14400)             0         \n",
      "_________________________________________________________________\n",
      "dense_47 (Dense)             (None, 400)               5760400   \n",
      "_________________________________________________________________\n",
      "activation_92 (Activation)   (None, 400)               0         \n",
      "_________________________________________________________________\n",
      "dense_48 (Dense)             (None, 1)                 401       \n",
      "_________________________________________________________________\n",
      "activation_93 (Activation)   (None, 1)                 0         \n",
      "=================================================================\n",
      "Total params: 5,779,617\n",
      "Trainable params: 5,779,617\n",
      "Non-trainable params: 0\n",
      "_________________________________________________________________\n"
     ]
    }
   ],
   "source": [
    "model.summary()"
   ]
  },
  {
   "cell_type": "code",
   "execution_count": 301,
   "metadata": {},
   "outputs": [
    {
     "name": "stdout",
     "output_type": "stream",
     "text": [
      "Train on 7 samples, validate on 2 samples\n",
      "Epoch 1/10\n",
      "7/7 [==============================] - 1s 92ms/sample - loss: 6.5714 - acc: 0.5714 - val_loss: 7.6666 - val_acc: 0.5000\n",
      "Epoch 2/10\n",
      "7/7 [==============================] - 0s 23ms/sample - loss: 6.5714 - acc: 0.5714 - val_loss: 7.6666 - val_acc: 0.5000\n",
      "Epoch 3/10\n",
      "7/7 [==============================] - 0s 25ms/sample - loss: 6.5714 - acc: 0.5714 - val_loss: 7.6666 - val_acc: 0.5000\n",
      "Epoch 4/10\n",
      "7/7 [==============================] - 0s 25ms/sample - loss: 6.5714 - acc: 0.5714 - val_loss: 7.6666 - val_acc: 0.5000\n",
      "Epoch 5/10\n",
      "7/7 [==============================] - 0s 26ms/sample - loss: 6.5714 - acc: 0.5714 - val_loss: 7.6666 - val_acc: 0.5000\n",
      "Epoch 6/10\n",
      "7/7 [==============================] - 0s 23ms/sample - loss: 6.5714 - acc: 0.5714 - val_loss: 7.6666 - val_acc: 0.5000\n",
      "Epoch 7/10\n",
      "7/7 [==============================] - 0s 23ms/sample - loss: 6.5714 - acc: 0.5714 - val_loss: 7.6666 - val_acc: 0.5000\n",
      "Epoch 8/10\n",
      "7/7 [==============================] - 0s 23ms/sample - loss: 6.5714 - acc: 0.5714 - val_loss: 7.6666 - val_acc: 0.5000\n",
      "Epoch 9/10\n",
      "7/7 [==============================] - 0s 23ms/sample - loss: 6.5714 - acc: 0.5714 - val_loss: 7.6666 - val_acc: 0.5000\n",
      "Epoch 10/10\n",
      "7/7 [==============================] - 0s 23ms/sample - loss: 6.5714 - acc: 0.5714 - val_loss: 7.6666 - val_acc: 0.5000\n"
     ]
    },
    {
     "data": {
      "text/plain": [
       "<tensorflow.python.keras.callbacks.History at 0x228c43c7198>"
      ]
     },
     "execution_count": 301,
     "metadata": {},
     "output_type": "execute_result"
    }
   ],
   "source": [
    "model.fit(trainX, trainY,validation_data=(testX, testY), epochs=10, batch_size=2)"
   ]
  },
  {
   "cell_type": "code",
   "execution_count": 302,
   "metadata": {},
   "outputs": [
    {
     "name": "stdout",
     "output_type": "stream",
     "text": [
      "2/2 [==============================] - 0s 3ms/sample - loss: 7.6666 - acc: 0.5000\n",
      "Test loss: 7.666619300842285\n",
      "Test accuracy: 0.5\n"
     ]
    }
   ],
   "source": [
    "# Score trained model.\n",
    "scores = model.evaluate(testX, testY, verbose=1)\n",
    "print('Test loss:', scores[0])\n",
    "print('Test accuracy:', scores[1])"
   ]
  },
  {
   "cell_type": "code",
   "execution_count": 303,
   "metadata": {},
   "outputs": [
    {
     "data": {
      "text/plain": [
       "array([[1.],\n",
       "       [1.]], dtype=float32)"
      ]
     },
     "execution_count": 303,
     "metadata": {},
     "output_type": "execute_result"
    }
   ],
   "source": [
    "model.predict(testX)"
   ]
  },
  {
   "cell_type": "code",
   "execution_count": 304,
   "metadata": {},
   "outputs": [
    {
     "data": {
      "text/plain": [
       "array([[1.],\n",
       "       [1.],\n",
       "       [1.],\n",
       "       [1.],\n",
       "       [1.],\n",
       "       [1.],\n",
       "       [1.]], dtype=float32)"
      ]
     },
     "execution_count": 304,
     "metadata": {},
     "output_type": "execute_result"
    }
   ],
   "source": [
    "model.predict(trainX)"
   ]
  },
  {
   "cell_type": "code",
   "execution_count": null,
   "metadata": {},
   "outputs": [],
   "source": []
  }
 ],
 "metadata": {
  "kernelspec": {
   "display_name": "Python 3",
   "language": "python",
   "name": "python3"
  },
  "language_info": {
   "codemirror_mode": {
    "name": "ipython",
    "version": 3
   },
   "file_extension": ".py",
   "mimetype": "text/x-python",
   "name": "python",
   "nbconvert_exporter": "python",
   "pygments_lexer": "ipython3",
   "version": "3.7.3"
  }
 },
 "nbformat": 4,
 "nbformat_minor": 2
}
